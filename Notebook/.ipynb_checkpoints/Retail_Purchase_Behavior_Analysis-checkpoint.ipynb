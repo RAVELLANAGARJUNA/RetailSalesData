{
 "cells": [
  {
   "cell_type": "code",
   "execution_count": null,
   "id": "fe132168",
   "metadata": {},
   "outputs": [],
   "source": [
    "import pandas as pd\n",
    "import matplotlib.pyplot as plt\n",
    "import seaborn as sns"
   ]
  },
  {
   "cell_type": "code",
   "execution_count": null,
   "id": "32eb1cbe",
   "metadata": {},
   "outputs": [],
   "source": [
    "# Load data\n",
    "df = pd.read_excel('RetailSalesData.xlsx')"
   ]
  },
  {
   "cell_type": "code",
   "execution_count": null,
   "id": "482ba54d",
   "metadata": {},
   "outputs": [],
   "source": [
    "# Convert 'Date' column to datetime\n",
    "df['Date'] = pd.to_datetime(df['Date'])"
   ]
  },
  {
   "cell_type": "code",
   "execution_count": null,
   "id": "b57eb0ac",
   "metadata": {},
   "outputs": [],
   "source": [
    "# Basic EDA\n",
    "print('Shape:', df.shape)\n",
    "print(df.info())\n",
    "print(df.describe())\n",
    "print('Missing values:\\n', df.isnull().sum())"
   ]
  },
  {
   "cell_type": "code",
   "execution_count": null,
   "id": "29dca6e7",
   "metadata": {},
   "outputs": [],
   "source": [
    "# Total Revenue\n",
    "total_revenue = df['TotalSales'].sum()\n",
    "print(f'\\nTotal Revenue: ₹{total_revenue:,.2f}')"
   ]
  },
  {
   "cell_type": "code",
   "execution_count": null,
   "id": "de1c849c",
   "metadata": {},
   "outputs": [],
   "source": [
    "# Top 5 Products by Revenue\n",
    "top_products = df.groupby('Product')['TotalSales'].sum().sort_values(ascending=False).head(5)\n",
    "print('\\nTop 5 Products by Revenue:\\n', top_products)"
   ]
  },
  {
   "cell_type": "code",
   "execution_count": null,
   "id": "5bfe8d34",
   "metadata": {},
   "outputs": [],
   "source": [
    "# Top 5 Customers by Spending\n",
    "top_customers = df.groupby('CustomerName')['TotalSales'].sum().sort_values(ascending=False).head(5)\n",
    "print('\\nTop 5 Customers by Spending:\\n', top_customers)"
   ]
  },
  {
   "cell_type": "code",
   "execution_count": null,
   "id": "78c5fb13",
   "metadata": {},
   "outputs": [],
   "source": [
    "# Monthly Revenue Trend\n",
    "df['Month'] = df['Date'].dt.to_period('M')\n",
    "monthly_revenue = df.groupby('Month')['TotalSales'].sum()\n",
    "\n",
    "monthly_revenue.plot(kind='line', marker='o', figsize=(10, 5), title='Monthly Revenue Trend')\n",
    "plt.xlabel('Month')\n",
    "plt.ylabel('Revenue')\n",
    "plt.grid(True)\n",
    "plt.tight_layout()\n",
    "plt.show()"
   ]
  },
  {
   "cell_type": "code",
   "execution_count": null,
   "id": "34b9b0b2",
   "metadata": {},
   "outputs": [],
   "source": [
    "# Revenue by Category\n",
    "category_revenue = df.groupby('Category')['TotalSales'].sum().sort_values(ascending=False)\n",
    "\n",
    "sns.barplot(x=category_revenue.values, y=category_revenue.index, palette='mako')\n",
    "plt.title('Revenue by Product Category')\n",
    "plt.xlabel('Total Revenue')\n",
    "plt.ylabel('Category')\n",
    "plt.tight_layout()\n",
    "plt.show()"
   ]
  },
  {
   "cell_type": "code",
   "execution_count": null,
   "id": "09111a94",
   "metadata": {},
   "outputs": [],
   "source": [
    "# Payment Method Distribution\n",
    "payment_counts = df['PaymentMethod'].value_counts()\n",
    "\n",
    "sns.barplot(x=payment_counts.index, y=payment_counts.values, palette='pastel')\n",
    "plt.title('Payment Method Distribution')\n",
    "plt.ylabel('Number of Orders')\n",
    "plt.xlabel('Payment Method')\n",
    "plt.tight_layout()\n",
    "plt.show()"
   ]
  }
 ],
 "metadata": {},
 "nbformat": 4,
 "nbformat_minor": 5
}